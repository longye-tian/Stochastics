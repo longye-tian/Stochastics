{
 "cells": [
  {
   "cell_type": "markdown",
   "id": "b626ab4c-010f-4f07-9f1f-7afe8f3225f4",
   "metadata": {},
   "source": [
    "## Week 1"
   ]
  },
  {
   "cell_type": "markdown",
   "id": "b28190ef-2142-4cd0-bf6f-7d18dcdacedd",
   "metadata": {},
   "source": [
    "**Outline**\n",
    "\n",
    "1. Random variable, moment generate function, and joint distribution\n",
    "\n",
    "2. Conditional probability and conditional expectation\n",
    "\n",
    "3. Random sun and basic concepts of random processes"
   ]
  },
  {
   "cell_type": "markdown",
   "id": "0eea620e-a63f-4889-a280-2159e54c96f4",
   "metadata": {},
   "source": [
    "## Theorems"
   ]
  },
  {
   "cell_type": "markdown",
   "id": "c8ef04e8-6c46-401e-9690-2262635b0a81",
   "metadata": {},
   "source": [
    "**Theorem 1**\n",
    "\n",
    "Suppose that $X_1,X_2,\\ldots, X_n$ are independent with mgfs $g_1(s), g_2(s),\\ldots, g_n(s)$, respectively.\n",
    "\n",
    "Then the mgf of $S_n = \\sum_{k=1}^n X_k$ is given by \n",
    "\n",
    "$$\n",
    "g(s) = \\mathbb{E}\\left(s^S_n\\right) = \\prod_{k=1}^n g_k(s)\n",
    "$$\n",
    "\n",
    "**Theorem 2**\n",
    "\n",
    "Let $X\\in\\mathbb{Z}$ r.v.. Then the distribution of $X$ is uniquely determined by its pgf \n",
    "\n",
    "$$\n",
    "g(s) = \\mathbb{E}\\left(s^X\\right), s\\in[0,1]\n",
    "$$\n",
    "\n",
    "\n",
    "**Theorem 3**\n",
    "Let $g(t) = \\mathbb{E}\\left(e^{tX}\\right)$. If $var(X)<\\infty$, then\n",
    "\n",
    "$$\n",
    "\\mathbb{E}(X) = g'(t)|_{t=0}\n",
    "$$\n",
    "\n",
    "$$\n",
    "var(X) = g''(t)|_{t=0}-\\left[g'(t)|_{t=0}\\right]^2\n",
    "$$\n",
    "\n",
    "**Law of Total Probability**\n",
    "\n",
    "$$\n",
    "\\mathbb{P}(X=x) = \\sum_{j=1}^\\infty \\mathbb{P}(X=x|Y=y_j)\\mathbb{P}(Y=y_j)\n",
    "$$\n",
    "\n",
    "**Total Expectation Theorem**\n",
    "\n",
    "$$\n",
    "\\mathbb{E}(X) = \\sum_{j=1}^\\infty \\mathbb{E}(X|Y=y_j)\\mathbb{P}(Y=y_j)\n",
    "$$"
   ]
  },
  {
   "cell_type": "markdown",
   "id": "490d845d-6fda-449c-80f6-459ef17269d0",
   "metadata": {},
   "source": [
    "### Part 1. Moment generating function"
   ]
  },
  {
   "cell_type": "markdown",
   "id": "58c2eca0-f667-43c2-81e2-e4273e1759d5",
   "metadata": {},
   "source": [
    "Moment generating function of $X$:\n",
    "\n",
    "$$\n",
    "g(s) = \\mathbb{E}\\left(s^X\\right), \\,s\\ge0\n",
    "$$\n",
    "\n",
    "or\n",
    "\n",
    "$$\n",
    "g(t) = \\mathbb{E}\\left(e^{tX}\\right),\\,\\,t\\in\\mathbb{R}\n",
    "$$\n",
    "\n",
    "If $X \\in \\mathbb{Z}_{+}$, $g(x)$ is also called the **probability generating function** of $X$, i.e.,\n",
    "\n",
    "$$\n",
    "g(s) = \\mathbb{E}\\left(s^X\\right) = \\sum_{j=0}^\\infty s^j\\mathbb{P}(X=j)\n",
    "$$"
   ]
  },
  {
   "cell_type": "markdown",
   "id": "5904674f-c450-4e3c-b081-50cfc4e39e72",
   "metadata": {},
   "source": [
    "### Part 2: Conditional Probability and conditional expectation"
   ]
  },
  {
   "cell_type": "markdown",
   "id": "667d8d47-d727-43db-9d78-45b0e866698c",
   "metadata": {},
   "source": [
    "**Conditional Distribution**\n",
    "\n",
    "$$\n",
    "\\mathbb{P}(X=x|B) = \\frac{\\mathbb{P}(X=x,B)}{\\mathbb{P}(B)}\n",
    "$$\n",
    "\n",
    "**Conditional Expectation** of $X$ given $B$ is\n",
    "\n",
    "$$\n",
    "\\mathbb{E}[X|B] = \\sum_{j=1}^\\infty x_j\\mathbb{P}(X=x_j|B)\n",
    "$$\n",
    "\n",
    "*NOTE* we have if $\\mathbb{P}(B)\\neq 0$\n",
    "\n",
    "$$\n",
    "\\mathbb{E}[X|B] = \\frac{1}{\\mathbb{P}(B)}\\mathbb{E}[XI_B]\n",
    "$$"
   ]
  },
  {
   "cell_type": "markdown",
   "id": "0fe97571-0a69-41e2-a9b3-6b204d49f592",
   "metadata": {},
   "source": [
    "**Continuous R.V.**\n",
    "\n",
    "Suppose $X, Y$ are continuous r.v., have joint density $f(x,y)$ and $f_X(x)=\\int f(x,y) \\,dy$ and $f_Y(y) = \\int f(x,y),\\,dx$ be the marginal densities. We have\n",
    "\n",
    "**Conditional Density** of $X$ given $Y=y$ is\n",
    "\n",
    "$$\n",
    "f_{X|Y} (x|y) = \\frac{f(x,y)}{f_Y(y)}\n",
    "$$\n",
    "\n",
    "*NOTE*: if $X\\perp Y$, then we have\n",
    "\n",
    "$$\n",
    "f_{X|Y} (x|y) = f_X(x)\n",
    "$$\n",
    "\n",
    "or\n",
    "\n",
    "$$\n",
    "f(x,y) = f_X(x) f_Y(y)\n",
    "$$"
   ]
  },
  {
   "cell_type": "markdown",
   "id": "e29ea100-63bb-49c5-83d9-2df5fe6f8c4d",
   "metadata": {},
   "source": [
    "We have\n",
    "**Probability Distribution**\n",
    "$$\n",
    "\\mathbb{P}(a\\le X\\le b|Y=y) = \\int_a^b xf_{X|Y}(x|y) \\,dx\n",
    "$$\n",
    "\n",
    "**Conditional Expectation**\n",
    "$$\n",
    "\\mathbb{E}(X|Y=y) = \\int xf_{X|Y}(x|y)\\,\\,dx\n",
    "$$\n",
    "\n",
    "**Expectation**\n",
    "\n",
    "$$\n",
    "\\mathbb{E}(X) = \\int \\mathbb{E}(X|Y=y)f_Y(y)\\,\\,dy = \\int\\int xf_{X|Y}(x|y)f_Y(y) \\,\\,dx\\,dy = \\int\\int xf(x,y) \\,\\,dx\\,dy\n",
    "$$"
   ]
  },
  {
   "cell_type": "markdown",
   "id": "5c84f780-4249-449e-89dd-aef2a6cf841b",
   "metadata": {},
   "source": [
    "### Conditional expectation as a Random Variable"
   ]
  },
  {
   "cell_type": "markdown",
   "id": "badba75f-80d5-4094-a12d-c337c1af00d0",
   "metadata": {},
   "source": [
    "We have \n",
    "\n",
    "$$\n",
    "\\psi(y):= \\mathbb{E}(X|Y=y)\n",
    "$$\n",
    "\n",
    "is a function of $y$. This induces a random variable $\\psi(Y) = \\mathbb{E}[X|Y]$ is a random variable.\n",
    "\n",
    "This is called **the conditional expectation of $X$ given $Y$**.\n",
    "\n",
    "This RV has the following properties:\n",
    "\n",
    "1. Indepedence: If $X$ and $Y$ are independent, we have $\\mathbb{E}[X|Y] = \\mathbb{E}[X]$\n",
    "2. LIE: If $\\mathbb{E}|X|<\\infty$, then $\\mathbb{E}[X] = \\mathbb{E}\\left[\\mathbb{E}[X|Y]\\right]$\n",
    "3. For any functional $g(X,Y)$ of $(X,Y)$, we have\n",
    "\n",
    "$$\n",
    "\\mathbb{E}[g(X,Y)|Y=y] = \\mathbb{E}[g(X,y)|Y=y]\n",
    "$$\n",
    "\n",
    "  - if $X\\perp Y$, then we have\n",
    "  \n",
    "  $$\n",
    "  \\mathbb{E}[g(X,Y)|Y=y]= \\mathbb{E}[g(X,y)]\n",
    "  $$\n",
    "  \n",
    "4. Conditional constancy: If $Z= g(Y)$, then $\\mathbb{E}[XZ|Y] = Z\\mathbb{E}[X|Y]$"
   ]
  },
  {
   "cell_type": "markdown",
   "id": "a647105f-4bf7-4eb5-82e6-d3791e950840",
   "metadata": {},
   "source": [
    "## Part 3: Random sum and basic conceps of random processes"
   ]
  },
  {
   "cell_type": "markdown",
   "id": "e227fe57-e3ac-4c2d-8a67-51fbf35ea7a0",
   "metadata": {},
   "source": [
    "**Random Sum**\n",
    "\n",
    "A random sum $$S_N = \\sum_{k=1}^N X_k$$, where\n",
    "\n",
    "- $N$ is a random variable taking non-negative integer values with $\\mathbb{P}(N=j)= p_j,\\,\\,j=0,1,2,\\ldots$\n",
    "\n",
    "- $X_k,\\,k\\ge 1$ is a sequence of random variables\n",
    "\n"
   ]
  },
  {
   "cell_type": "markdown",
   "id": "7a2667d1-3c2d-478c-9213-b440850dea53",
   "metadata": {},
   "source": [
    "### Wald Identity"
   ]
  },
  {
   "cell_type": "markdown",
   "id": "cc785d25-6a9c-440a-b4af-cad235050520",
   "metadata": {},
   "source": [
    "If \n",
    "\n",
    "- $X_k$ are i.i.d. with $\\mathbb{E}|X_k|<\\infty$\n",
    "- $N$ is non-negative integer value r.v. such that $\\{N=n\\}$ is independent of $X_1,X_2,\\ldots$\n",
    "- $\\mathbb{E}(N)<\\infty$\n",
    "\n",
    "then\n",
    "\n",
    "$$\n",
    "\\mathbb{E}(S_N) = \\mathbb{E}(N)\\mathbb{E}(X_1)\n",
    "$$\n",
    "\n",
    "**Proof**:\n",
    "\n",
    "*NOTE* the key part is to use the *Total Expectation Theorem*\n",
    "\n",
    "$$\n",
    "\\mathbb{E}(S_n) = \\sum_{j=0}^\\infty \\mathbb{E}(X|N=j) \\mathbb{P}(N=j)\n",
    "$$\n",
    "\n",
    "Then use $N\\perp X$ and iid.\n"
   ]
  },
  {
   "cell_type": "markdown",
   "id": "086104c9-01f6-496e-b7b0-020528f532ae",
   "metadata": {},
   "source": [
    "### Stochastic process"
   ]
  },
  {
   "cell_type": "markdown",
   "id": "e3913462-6a60-4c36-8c19-c3ec31072019",
   "metadata": {},
   "source": [
    "A **stochastic process** is a collection of random variables, i.e.,\n",
    "\n",
    "$$\n",
    "(X_t, t\\in T) = (X_t(\\omega), t\\in T, \\omega\\in \\Omega)\n",
    "$$\n",
    "\n",
    "defined on some probability space $(\\Omega, \\mathcal{F}, \\mathbb{P})$, where $T$ is an index set such that $T=\\{0,1,2,\\ldots\\}$ or $T = [0,\\infty)$.\n",
    "\n",
    "Let $S$ denote the **state space**, the set of all possible values of $X_t$, $t\\in T$, i.e.,\n",
    "\n",
    "$$\n",
    "X_t: \\Omega \\mapsto S,\\,\\,\\forall t\\in T\n",
    "$$\n",
    "\n",
    "**Remark**\n",
    "\n",
    "A stochastic process is actually a **function of two variables, $t$ and $\\omega$**:\n",
    "\n",
    "- for a fixed time $t$, it is a r.v. $X_t = X_t(\\omega), \\omega\\in\\Omega$\n",
    "\n",
    "- for a fixed $\\omega$, it is a function of time, $X_t= X_t(\\omega), t\\in T$, which is called a **realization**, **trajectory**, **sample path** of the process $X$.\n",
    "\n",
    "The **finite-dimensional distributions(fdds)** of the stochastic process $X_t,t\\in T$, are the distribution of the finite-dimensional vectors\n",
    "\n",
    "$$\n",
    "(X_{t_1}, X_{t_2},\\ldots, X_{t_n}), t_1,t_2,\\ldots,t_n\\in T\n",
    "$$\n",
    "\n",
    "for all possible choices of times $t_1,t_2,\\ldots,t_n\\in T$"
   ]
  },
  {
   "cell_type": "markdown",
   "id": "9dd6ace4-18a5-4d40-a602-764d092b2a1b",
   "metadata": {},
   "source": [
    "### Stationarity"
   ]
  },
  {
   "cell_type": "markdown",
   "id": "d146eaee-e24a-4aba-9797-6ef8a41d00d8",
   "metadata": {},
   "source": [
    "**Strict Stationarity**\n",
    "\n",
    "The process $\\{X_t,t\\in T\\}$ is **strictly stationary** if the fdds are invariant under shifts of the index $t$, i.e.,\n",
    "\n",
    "$$\n",
    "((X_{t_1}, X_{t_2},\\ldots, X_{t_n}))=_d(X_{t_1+h}, X_{t_2+h},\\ldots, X_{t_n+h})\n",
    "$$\n",
    "\n",
    "**Weak Stationarity**\n",
    "\n",
    "The process $\\{X_t\\}_{t\\in T}$ is **weakly stationary** if its mean and covariance functions are invariant under shifts of the index $t$, i.e.,\n",
    "\n",
    "$$\n",
    "\\mathbb{E}[X_t] = \\mathbb{E}[X_{t+h}]\n",
    "$$\n",
    "\n",
    "$$\n",
    "Cov(X_t,X_s) = Cov(X_{t+h},X_{s+h})\n",
    "$$\n",
    "\n",
    "*NOTE*\n",
    "\n",
    "- WS does not implies SS\n",
    "\n",
    "- If the second moments of $X_t$ exists, then SS $\\implies$ WS"
   ]
  },
  {
   "cell_type": "markdown",
   "id": "468e1e43-6cf0-44f0-b8d0-d8ab941da3af",
   "metadata": {},
   "source": [
    "### Properties of Increments"
   ]
  },
  {
   "cell_type": "markdown",
   "id": "059438d1-b549-4d2b-9152-228e6ad97808",
   "metadata": {},
   "source": [
    "**Stationary increments**\n",
    "\n",
    "$X_t$ is said to have **stationary increments** if \n",
    "\n",
    "$$\n",
    "X_t-X_s =_d X_{t+h}-X_{s+h}\n",
    "$$\n",
    "\n",
    "\n",
    "$X_t$ is said to have **independent increments** if for all $t_i\\in T$, with $t_1<t_2<\\cdots<t_n$,\n",
    "\n",
    "$$\n",
    "X_{t_2}- X_{t_1}, X_{t_3}-X_{t_2}, \\cdots, X_{t_n}-X_{t_{n-1}}\n",
    "$$\n",
    "\n",
    "are independent random variables."
   ]
  },
  {
   "cell_type": "markdown",
   "id": "40a56558-e309-46ef-9dab-08018b21b729",
   "metadata": {},
   "source": [
    "### Classification of Random processes"
   ]
  },
  {
   "cell_type": "markdown",
   "id": "b6355fd4-8af9-4386-821f-ed616ef81c65",
   "metadata": {},
   "source": [
    "A random process may be considered as a well-defined process once its\n",
    "\n",
    "- State space $S$\n",
    "\n",
    "- Index set $T$\n",
    "\n",
    "- Joint distribution family\n",
    "\n",
    "are prescibed. \n",
    "\n",
    "Depending on continuous or discrete of $S$ and $T$, we classify the random processes into four categories\n",
    "\n",
    "|                | **Discrete  $S$** | **Continuous $S$** |\n",
    "|----------------|:---------------------:|:----------------------:|\n",
    "| **Discrete $T$**   | Discrete-valued random processes: Random walk, Markov Chain | Continuous random process with discrete parameters: financial random processes |\n",
    "| **Continuous $T$** | Discrete-valued continuous parametric random processes: Poisson process, point process | Continuous random processes: Brownian motion |\n"
   ]
  },
  {
   "cell_type": "markdown",
   "id": "459ddbbd-2380-48eb-b32c-34ea4ac1c1dc",
   "metadata": {},
   "source": [
    "### Tutorial Question"
   ]
  },
  {
   "cell_type": "markdown",
   "id": "598ba1fd-e485-4041-9e83-d7b804c486d6",
   "metadata": {},
   "source": [
    "- Question 2 Important"
   ]
  },
  {
   "cell_type": "code",
   "execution_count": null,
   "id": "ec07b02a-4510-4db1-8d5d-c5442d55f0ab",
   "metadata": {},
   "outputs": [],
   "source": []
  }
 ],
 "metadata": {
  "kernelspec": {
   "display_name": "Python 3 (ipykernel)",
   "language": "python",
   "name": "python3"
  },
  "language_info": {
   "codemirror_mode": {
    "name": "ipython",
    "version": 3
   },
   "file_extension": ".py",
   "mimetype": "text/x-python",
   "name": "python",
   "nbconvert_exporter": "python",
   "pygments_lexer": "ipython3",
   "version": "3.10.12"
  }
 },
 "nbformat": 4,
 "nbformat_minor": 5
}
